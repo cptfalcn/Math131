{
 "cells": [
  {
   "cell_type": "code",
   "execution_count": 14,
   "id": "becd7ebe-2c7c-4210-bda9-4060877e1ad4",
   "metadata": {},
   "outputs": [],
   "source": [
    "#This module shows how python stores floating points, with an example calculation\n",
    "import numpy as np\n",
    "import math\n",
    "def countTotalBits(num):\n",
    "     \n",
    "     # convert number into it's binary and \n",
    "     # remove first two characters .\n",
    "     binary = bin(num)[2:]\n",
    "     print(len(binary)) "
   ]
  },
  {
   "cell_type": "code",
   "execution_count": 7,
   "id": "f77fea46-6710-436b-80a2-0405b305574e",
   "metadata": {},
   "outputs": [
    {
     "data": {
      "text/plain": [
       "True"
      ]
     },
     "execution_count": 7,
     "metadata": {},
     "output_type": "execute_result"
    }
   ],
   "source": [
    "2**52 <=  2**56 // 10  < 2**53  #Check if N=56, generally you find N through brute force, is between the required number of digits for J, x =1/10"
   ]
  },
  {
   "cell_type": "code",
   "execution_count": 8,
   "id": "6ab95799-2c66-489b-942b-dc936c3520a1",
   "metadata": {},
   "outputs": [
    {
     "data": {
      "text/plain": [
       "6"
      ]
     },
     "execution_count": 8,
     "metadata": {},
     "output_type": "execute_result"
    }
   ],
   "source": [
    "N=56\n",
    "q, r = divmod(2**N, 10)\n",
    "\n",
    "r"
   ]
  },
  {
   "cell_type": "code",
   "execution_count": 9,
   "id": "7a57cd6d-c477-4d0c-8657-d6811a40ee0f",
   "metadata": {},
   "outputs": [
    {
     "data": {
      "text/plain": [
       "7205759403792794"
      ]
     },
     "execution_count": 9,
     "metadata": {},
     "output_type": "execute_result"
    }
   ],
   "source": [
    "x=q+1 # 6 is greater than halfway through the cutoff, so round up\n",
    "x"
   ]
  },
  {
   "cell_type": "code",
   "execution_count": 10,
   "id": "b818c7b7-d4e6-443c-966c-3cc40108be13",
   "metadata": {},
   "outputs": [
    {
     "data": {
      "text/plain": [
       "True"
      ]
     },
     "execution_count": 10,
     "metadata": {},
     "output_type": "execute_result"
    }
   ],
   "source": [
    "x / 2 ** 56 == 1/10 # Check if this binary fraction is the same the input"
   ]
  },
  {
   "cell_type": "code",
   "execution_count": 18,
   "id": "4ac6a497-85b3-430f-96f3-0379a9f3fd51",
   "metadata": {},
   "outputs": [
    {
     "name": "stdout",
     "output_type": "stream",
     "text": [
      "53\n",
      "(0.8, -3)\n"
     ]
    }
   ],
   "source": [
    "countTotalBits(x)\n",
    "bin(x)   #output the binary\n",
    "print(math.frexp(0.1))"
   ]
  },
  {
   "cell_type": "code",
   "execution_count": 40,
   "id": "d46dd716-5a97-435f-932f-cb113e945004",
   "metadata": {},
   "outputs": [
    {
     "name": "stdout",
     "output_type": "stream",
     "text": [
      "Checking remainder for function  Sine(x)\n",
      "Checking error bound for P(N), N =  0  using Error bound of abs(R(N+1))=  1.5707963267948966\n",
      "Checking error bound for P(N), N =  1  using Error bound of abs(R(N+1))=  1.2337005501361697\n",
      "Checking error bound for P(N), N =  2  using Error bound of abs(R(N+1))=  0.6459640975062462\n",
      "Checking error bound for P(N), N =  3  using Error bound of abs(R(N+1))=  0.253669507901048\n",
      "Checking error bound for P(N), N =  4  using Error bound of abs(R(N+1))=  0.07969262624616703\n",
      "Checking error bound for P(N), N =  5  using Error bound of abs(R(N+1))=  0.020863480763352957\n",
      "Checking error bound for P(N), N =  6  using Error bound of abs(R(N+1))=  0.004681754135318687\n",
      "Checking error bound for P(N), N =  7  using Error bound of abs(R(N+1))=  0.0009192602748394263\n",
      "N= 7  within tol\n",
      "Checking remainder for function  Exp(-x)\n",
      "Checking error bound for P(N), N =  0  using Error bound of abs(R(N+1))=  60.256610769563004\n",
      "Checking error bound for P(N), N =  1  using Error bound of abs(R(N+1))=  90.38491615434451\n",
      "Checking error bound for P(N), N =  2  using Error bound of abs(R(N+1))=  90.38491615434451\n",
      "Checking error bound for P(N), N =  3  using Error bound of abs(R(N+1))=  67.78868711575838\n",
      "Checking error bound for P(N), N =  4  using Error bound of abs(R(N+1))=  40.67321226945503\n",
      "Checking error bound for P(N), N =  5  using Error bound of abs(R(N+1))=  20.336606134727514\n",
      "Checking error bound for P(N), N =  6  using Error bound of abs(R(N+1))=  8.71568834345465\n",
      "Checking error bound for P(N), N =  7  using Error bound of abs(R(N+1))=  3.268383128795493\n",
      "Checking error bound for P(N), N =  8  using Error bound of abs(R(N+1))=  1.089461042931831\n",
      "Checking error bound for P(N), N =  9  using Error bound of abs(R(N+1))=  0.3268383128795493\n",
      "Checking error bound for P(N), N =  10  using Error bound of abs(R(N+1))=  0.08913772169442255\n",
      "Checking error bound for P(N), N =  11  using Error bound of abs(R(N+1))=  0.022284430423605634\n",
      "Checking error bound for P(N), N =  12  using Error bound of abs(R(N+1))=  0.005142560866985916\n",
      "Checking error bound for P(N), N =  13  using Error bound of abs(R(N+1))=  0.0011019773286398392\n",
      "Checking error bound for P(N), N =  14  using Error bound of abs(R(N+1))=  0.00022039546572796782\n",
      "N= 14  within tol\n"
     ]
    }
   ],
   "source": [
    "#Homework checker\n",
    "import numpy as np\n",
    "import math\n",
    "##\n",
    "##BoundDer:  The bound on the derivative function on the interval [a,b]\n",
    "##BoundDelx: The bound on the (x-x0) on the interval [a,b]\n",
    "##Loop:      How many Taylor approximations do you want to check\n",
    "##Name       Name of the function to be output\n",
    "##Tol        The Tolerance you want your error less than\n",
    "\n",
    "def TaylorRemainder(BoundDer, BoundDelx, Loop, Name, Tol):\n",
    "    print(\"Checking remainder for function \" , Name)\n",
    "    for i in range(0,Loop): #runs 1:Loop times and checks if within Tolerance, if so returns \n",
    "        ErrEst=abs((BoundDer)*(BoundDelx )**(i+1)/math.factorial(i+1))\n",
    "        print(\"Checking error bound for P(N), N = \" , i, \" using Error bound of abs(R(N+1))= \" ,ErrEst)\n",
    "        if( ErrEst< Tol):# Set the step size to start at 1e-10 and divide by ten each time\n",
    "            print(\"N=\", i, \" within tol\")\n",
    "            break\n",
    "\n",
    "#Check For sine(x) input appropriate bounds on derivative and Delx\n",
    "TaylorRemainder(1, np.pi/2, 20, \"Sine(x)\", 1e-3)\n",
    "TaylorRemainder(np.exp(3), 3, 20, \"Exp(-x)\", 1e-3)"
   ]
  },
  {
   "cell_type": "code",
   "execution_count": null,
   "id": "577d3b9a-6d14-4930-9b60-d7b1d03f51b6",
   "metadata": {},
   "outputs": [],
   "source": []
  }
 ],
 "metadata": {
  "kernelspec": {
   "display_name": "Python 3 (ipykernel)",
   "language": "python",
   "name": "python3"
  },
  "language_info": {
   "codemirror_mode": {
    "name": "ipython",
    "version": 3
   },
   "file_extension": ".py",
   "mimetype": "text/x-python",
   "name": "python",
   "nbconvert_exporter": "python",
   "pygments_lexer": "ipython3",
   "version": "3.9.2"
  }
 },
 "nbformat": 4,
 "nbformat_minor": 5
}
